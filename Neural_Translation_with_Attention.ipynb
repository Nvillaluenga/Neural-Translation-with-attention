{
  "nbformat": 4,
  "nbformat_minor": 0,
  "metadata": {
    "colab": {
      "name": "Neural-Translation-with-Attention.ipynb",
      "provenance": [],
      "collapsed_sections": [],
      "authorship_tag": "ABX9TyOCgLyqaTqB32R+s1vp1GZi",
      "include_colab_link": true
    },
    "kernelspec": {
      "name": "python3",
      "display_name": "Python 3"
    },
    "accelerator": "GPU"
  },
  "cells": [
    {
      "cell_type": "markdown",
      "metadata": {
        "id": "view-in-github",
        "colab_type": "text"
      },
      "source": [
        "<a href=\"https://colab.research.google.com/github/Nvillaluenga/Neural-Translation-with-attention/blob/NachDev/Neural_Translation_with_Attention.ipynb\" target=\"_parent\"><img src=\"https://colab.research.google.com/assets/colab-badge.svg\" alt=\"Open In Colab\"/></a>"
      ]
    },
    {
      "cell_type": "code",
      "metadata": {
        "id": "00428CVZZAX_",
        "colab_type": "code",
        "colab": {
          "base_uri": "https://localhost:8080/",
          "height": 35
        },
        "outputId": "6d72ba67-817d-4cb6-d509-56c3d6e091d8"
      },
      "source": [
        "from __future__ import absolute_import, division, print_function\n",
        "from sklearn.model_selection import train_test_split\n",
        "import tensorflow as tf\n",
        "import matplotlib.pyplot as plt\n",
        "import numpy as np\n",
        "import unicodedata\n",
        "import re\n",
        "import os\n",
        "import time\n",
        "import io\n",
        "\n",
        "print(tf.__version__) # as TF is v=2.3.0 eager execution is enabled by default"
      ],
      "execution_count": null,
      "outputs": [
        {
          "output_type": "stream",
          "text": [
            "2.3.0\n"
          ],
          "name": "stdout"
        }
      ]
    },
    {
      "cell_type": "code",
      "metadata": {
        "id": "CfdhS_o1blXF",
        "colab_type": "code",
        "colab": {}
      },
      "source": [
        "# Get our data\n",
        "path_to_zip = tf.keras.utils.get_file(\n",
        "    fname='spa-eng.zip',\n",
        "    origin='http://download.tensorflow.org/data/spa-eng.zip',\n",
        "    extract=True)\n",
        "print(path_to_zip)\n",
        "\n",
        "path_to_file = os.path.dirname(path_to_zip)+'/spa-eng/spa.txt'\n",
        "print(path_to_file)"
      ],
      "execution_count": null,
      "outputs": []
    },
    {
      "cell_type": "code",
      "metadata": {
        "id": "epzo0dTcg5UH",
        "colab_type": "code",
        "colab": {}
      },
      "source": [
        "# Preprocessing functions\n",
        "\n",
        "def unicode_to_ascii(string):\n",
        "  return ''.join( c for c in unicodedata.normalize('NFD', string)\n",
        "    if unicodedata.category(c) != 'Mn' )\n",
        "  \n",
        "def preprocess_sentence(string):\n",
        "  string = unicode_to_ascii(string.lower().strip())\n",
        "  # separate words from simbols (?.!,¿), eliminate double (or more) spaces\n",
        "  # and replace every weird stuff non english character with space\n",
        "  string = re.sub(r'([?.!,¿])', r' \\1', string)\n",
        "  string = re.sub(r'[\" \"]+', ' ', string)\n",
        "  string = re.sub(r'[^a-zA-Z?.!,¿]+', ' ', string)\n",
        "  string = string.rstrip().strip()\n",
        "  # adding a start and an end token to the sentence\n",
        "  string = '<start> ' + string + ' <end>'\n",
        "  return string\n",
        "\n",
        "def create_dataset(path, num_examples):\n",
        "  lines = io.open(path, encoding='UTF-8').read().strip().split('\\n')\n",
        "\n",
        "  word_pairs = [ [ preprocess_sentence(word) for word in line.split('\\t') ]\n",
        "                for line in lines[:num_examples] ]\n",
        "  return zip(*word_pairs)\n",
        "\n",
        "def tokenize(lang):\n",
        "  lang_tokenizer = tf.keras.preprocessing.text.Tokenizer(filters='')\n",
        "  lang_tokenizer.fit_on_texts(lang)\n",
        "\n",
        "  tensor = lang_tokenizer.texts_to_sequences(lang)\n",
        "  tensor = tf.keras.preprocessing.sequence.pad_sequences(tensor, padding='post')\n",
        "  return tensor, lang_tokenizer\n",
        "\n",
        "def load_dataset(path, num_examples=None):\n",
        "  # creating cleaned input, output pairs\n",
        "  targ_lang, inp_lang = create_dataset(path, num_examples)\n",
        "\n",
        "  input_tensor, inp_lang_tokenizer = tokenize(inp_lang)\n",
        "  target_tensor, targ_lang_tokenizer = tokenize(targ_lang)\n",
        "\n",
        "  return input_tensor, target_tensor, inp_lang_tokenizer, targ_lang_tokenizer"
      ],
      "execution_count": null,
      "outputs": []
    },
    {
      "cell_type": "code",
      "metadata": {
        "id": "ffMtUVEXv-KC",
        "colab_type": "code",
        "colab": {}
      },
      "source": [
        "# Testing the functions\n",
        "en_sentence = u\"May I borrow this book?\"\n",
        "sp_sentence = u\"¿Puedo tomar prestado este libro?\"\n",
        "print(preprocess_sentence(en_sentence))\n",
        "print(preprocess_sentence(sp_sentence).encode('utf-8'))\n",
        "\n",
        "en, sp = create_dataset(path_to_file, None)\n",
        "print(en[-1])\n",
        "print(sp[-1])\n",
        "\n",
        "input_tensor, target_tensor, inp_lang_tokenizer, targ_lang_tokenizer = load_dataset(path_to_file)\n",
        "print('## Tensors with indexed text')\n",
        "print(input_tensor[-1])\n",
        "print(target_tensor[-1])\n",
        "print('## Dictonaries from index 2 word and viceversa')\n",
        "print(inp_lang_tokenizer.index_word)\n",
        "print(inp_lang_tokenizer.word_index)"
      ],
      "execution_count": null,
      "outputs": []
    },
    {
      "cell_type": "code",
      "metadata": {
        "id": "_MwFmLwLgqPP",
        "colab_type": "code",
        "colab": {}
      },
      "source": [
        "#Limit the size of the dataset to experiment faster (optional)\n",
        "num_examples = 320000 # Change this number and max values may change\n",
        "input_tensor, target_tensor, inp_lang, tar_lang = load_dataset(path_to_file,\n",
        "                                                               num_examples=num_examples)\n",
        "max_length_tar, max_length_inp = target_tensor.shape[1], input_tensor.shape[1]\n",
        "print('Max target length: ' + str(max_length_tar))\n",
        "print('Max input length: ' + str(max_length_inp))\n",
        "\n",
        "input_tensor_train, input_tensor_val, target_tensor_train, target_tensor_val = train_test_split(\n",
        "    input_tensor, target_tensor, test_size=0.2)\n",
        "print(len(input_tensor_train), len(target_tensor_train),\n",
        "      len(input_tensor_val), len(target_tensor_val))"
      ],
      "execution_count": null,
      "outputs": []
    },
    {
      "cell_type": "code",
      "metadata": {
        "id": "8zReM-Jp2qL0",
        "colab_type": "code",
        "colab": {}
      },
      "source": [
        "# Create a tf.data dataset\n",
        "BUFFER_SIZE = len(input_tensor_train)\n",
        "BATCH_SIZE = 64\n",
        "steps_per_epoch = len(input_tensor_train) // BATCH_SIZE\n",
        "embedding_dim = 256\n",
        "units = 1024\n",
        "vocab_inp_size = len(inp_lang.word_index)+1\n",
        "vocab_tar_size = len(tar_lang.word_index)+1\n",
        "\n",
        "dataset = tf.data.Dataset.from_tensor_slices(\n",
        "    (input_tensor_train, target_tensor_train)).shuffle(BUFFER_SIZE)\n",
        "dataset = dataset.batch(BATCH_SIZE, drop_remainder=True).shuffle(BUFFER_SIZE)\n",
        "\n",
        "example_input_batch, example_target_batch = next(iter(dataset))\n",
        "example_input_batch.shape, example_target_batch.shape\n",
        "  "
      ],
      "execution_count": null,
      "outputs": []
    },
    {
      "cell_type": "markdown",
      "metadata": {
        "id": "1eyLx3Yna3Ae",
        "colab_type": "text"
      },
      "source": [
        "##WRITE ENCODER DECODER MODEL\n",
        "\n",
        "<img src=\"https://www.tensorflow.org/images/seq2seq/attention_mechanism.jpg\" width=\"500\" alt=\"attention mechanism\">\n",
        "\n",
        "the pseudo-code:\n",
        "\n",
        "* `score = FC(tanh(FC(EO) + FC(H)))`\n",
        "* `attention weights = softmax(score, axis = 1)`. Softmax by default is applied on the last axis but here we want to apply it on the *1st axis*, since the shape of score is *(batch_size, max_length, hidden_size)*. `Max_length` is the length of our input. Since we are trying to assign a weight to each input, softmax should be applied on that axis.\n",
        "* `context vector = sum(attention weights * EO, axis = 1)`. Same reason as above for choosing axis as 1.\n",
        "* `embedding output` = The input to the decoder X is passed through an embedding layer.\n",
        "* `merged vector = concat(embedding output, context vector)`\n",
        "* This merged vector is then given to the GRU"
      ]
    },
    {
      "cell_type": "code",
      "metadata": {
        "id": "MQqi2Z2jZE7_",
        "colab_type": "code",
        "colab": {}
      },
      "source": [
        "# Encoder model\n",
        "\n",
        "class Encoder(tf.keras.Model):\n",
        "  def __init__(self, vocab_size, embedding_dim, enc_units, batch_size):\n",
        "    super(Encoder, self).__init__()\n",
        "    self.batch_size = batch_size\n",
        "    self.enc_units = enc_units\n",
        "    self.embedding = tf.keras.layers.Embedding(vocab_size, embedding_dim)\n",
        "    self.gru = tf.keras.layers.GRU(self.enc_units,\n",
        "                                   return_sequences = True,\n",
        "                                   return_state = True,\n",
        "                                   recurrent_initializer = 'glorot_uniform')   \n",
        "  def call(self, x, hidden):\n",
        "    x = self.embedding(x)\n",
        "    output, state = self.gru(x, initial_state = hidden)\n",
        "    return output, state\n",
        "    \n",
        "  def initialize_hidden_state(self):\n",
        "    return tf.zeros((self.batch_size, self.enc_units))\n",
        " \n",
        "\n",
        "\n",
        "encoder = Encoder(vocab_inp_size, embedding_dim, units, BATCH_SIZE)\n",
        "\n",
        "sample_hidden = encoder.initialize_hidden_state()\n",
        "print ('Encoder Hidden state shape: (batch size, units) {}'.format(sample_hidden.shape))\n",
        "\n",
        "sample_output, sample_hidden = encoder(example_input_batch, sample_hidden)\n",
        "print ('Encoder Hidden state shape: (batch size, units) {}'.format(sample_hidden.shape))\n",
        "print ('Encoder output shape: (batch size, sequence length, units) {}'.format(sample_output.shape))"
      ],
      "execution_count": null,
      "outputs": []
    },
    {
      "cell_type": "code",
      "metadata": {
        "id": "Qz0R6S5lbkN_",
        "colab_type": "code",
        "colab": {}
      },
      "source": [
        "# Bahdanau Attention layer\n",
        "\n",
        "class BahdanauAttention(tf.keras.layers.Layer):\n",
        "  def __init__(self, units):\n",
        "    super(BahdanauAttention, self).__init__()\n",
        "    self.W1 = tf.keras.layers.Dense(units)\n",
        "    self.W2 = tf.keras.layers.Dense(units)\n",
        "    self.V = tf.keras.layers.Dense(1)\n",
        "\n",
        "  def call(self, query, values):\n",
        "    query_with_time_axis = tf.expand_dims(query, 1)\n",
        "    score = self.V(tf.nn.tanh(\n",
        "        self.W1(query_with_time_axis) + self.W2(values)))\n",
        "    attention_weights = tf.nn.softmax(score, axis=1)\n",
        "\n",
        "    context_vector = attention_weights * values\n",
        "    context_vector = tf.reduce_sum(context_vector, axis=1)\n",
        "\n",
        "    return context_vector, attention_weights\n",
        "\n",
        "attention_layer = BahdanauAttention(10) # What does this 10 means ?????\n",
        "attention_result, attention_weights = attention_layer(sample_hidden, sample_output)\n",
        "\n",
        "print(\"Attention result shape: (batch size, units) {}\".format(attention_result.shape))\n",
        "print(\"Attention weights shape: (batch_size, sequence_length, 1) {}\".format(attention_weights.shape))"
      ],
      "execution_count": null,
      "outputs": []
    },
    {
      "cell_type": "code",
      "metadata": {
        "id": "vSakSe0RaJHx",
        "colab_type": "code",
        "colab": {}
      },
      "source": [
        "# Decoder\n",
        "\n",
        "class Decoder(tf.keras.Model):\n",
        "  def __init__ (self, vocab_size, embedding_dim, dec_units, batch_sz):\n",
        "    super(Decoder, self).__init__()\n",
        "    self.embedding = tf.keras.layers.Embedding(vocab_size, embedding_dim)\n",
        "    self.dec_units = dec_units\n",
        "    self.batch_sz = batch_sz\n",
        "    self.gru = tf.keras.layers.GRU(self.dec_units,\n",
        "                                   return_sequences = True,\n",
        "                                   return_state = True,\n",
        "                                   recurrent_initializer = 'glorot_uniform')\n",
        "    self.fc = tf.keras.layers.Dense(vocab_size)\n",
        "    self.attention = BahdanauAttention(self.dec_units)\n",
        "\n",
        "  def call (self, x, hidden, enc_output):\n",
        "    context_vector, attention_weights = self.attention(hidden, enc_output)\n",
        "    x = self.embedding(x)\n",
        "    x = tf.concat([tf.expand_dims(context_vector, 1), x], axis=-1)\n",
        "    output, state = self.gru(x)\n",
        "    output = tf.reshape(output, (-1, output.shape[2]))\n",
        "    x = self.fc(output)\n",
        "    return x, state, attention_weights\n",
        "\n",
        "decoder = Decoder(vocab_tar_size, embedding_dim, units, BATCH_SIZE)\n",
        "sample_decoder_output, _, _ = decoder(tf.random.uniform((BATCH_SIZE, 1)),\n",
        "                                      sample_hidden,\n",
        "                                      sample_output)\n",
        "print (f'Vocab size = {vocab_tar_size}')\n",
        "print (f'Batch size = {BATCH_SIZE}')\n",
        "print ('Decoder output shape: (batch_size, vocab size) {}'.format(sample_decoder_output.shape))"
      ],
      "execution_count": null,
      "outputs": []
    },
    {
      "cell_type": "code",
      "metadata": {
        "id": "nkRG6DgwcohC",
        "colab_type": "code",
        "colab": {}
      },
      "source": [
        "# Optimizer, checkpoints and loss function\n",
        "optimizer = tf.keras.optimizers.Adam()\n",
        "\n",
        "checkpoint_dir = './training_checkpoints'\n",
        "checkpoint_prefix = os.path.join(checkpoint_dir, 'ckpt')\n",
        "checkpoint = tf.train.Checkpoint(optimize = optimizer,\n",
        "                                 encoder = encoder,\n",
        "                                 decoder = decoder)\n",
        "\n",
        "loss_object = tf.keras.losses.SparseCategoricalCrossentropy(from_logits = True,\n",
        "                                                            reduction = 'none')\n",
        "\n",
        "def loss_function(real, prediction):\n",
        "  mask = tf.math.logical_not(tf.math.equal(real, 0))\n",
        "  loss_ = loss_object(real, prediction)\n",
        "\n",
        "  mask = tf.cast(mask, dtype=loss_.dtype)\n",
        "  loss_ *= mask\n",
        "\n",
        "  return tf.reduce_mean(loss_)"
      ],
      "execution_count": null,
      "outputs": []
    },
    {
      "cell_type": "code",
      "metadata": {
        "id": "l2AwcC3UgbCD",
        "colab_type": "code",
        "colab": {}
      },
      "source": [
        "# Training with teacher forcing\n",
        "\n",
        "@tf.function\n",
        "def train_step (inp, targ, enc_hidden):\n",
        "  loss = 0\n",
        "  \n",
        "  with tf.GradientTape() as tape:\n",
        "    enc_output, enc_hidden = encoder(inp, enc_hidden)\n",
        "    dec_hidden = enc_hidden\n",
        "    dec_input = tf.expand_dims([tar_lang.word_index['<start>']] * BATCH_SIZE, 1)\n",
        "\n",
        "    for t in range(1, targ.shape[1]): # For each batch\n",
        "      predictions, dec_hidden, _ = decoder(dec_input, dec_hidden, enc_output)\n",
        "      loss += loss_function(targ[:, t], predictions)\n",
        "\n",
        "      # Using teacher forcing - Instead of passing the predictions, we pass correct results\n",
        "      dec_input = tf.expand_dims(targ[:, t], 1)\n",
        "\n",
        "    batch_loss = (loss / int(targ.shape[1]))\n",
        "\n",
        "    variables = encoder.trainable_variables + decoder.trainable_variables\n",
        "    gradients = tape.gradient(loss, variables)\n",
        "    optimizer.apply_gradients(zip(gradients, variables))\n",
        "  \n",
        "  return batch_loss"
      ],
      "execution_count": null,
      "outputs": []
    },
    {
      "cell_type": "code",
      "metadata": {
        "id": "PyibtA1XlL4j",
        "colab_type": "code",
        "colab": {
          "base_uri": "https://localhost:8080/",
          "height": 1000
        },
        "outputId": "8b4f396d-110d-4d2c-fcda-d0e3aa0357b8"
      },
      "source": [
        "EPOCHS = 5\n",
        "\n",
        "for epoch in range(EPOCHS):\n",
        "  start = time.time()\n",
        "\n",
        "  enc_hidden = encoder.initialize_hidden_state()\n",
        "  total_loss = 0\n",
        "\n",
        "  for (batch, (inp, targ)) in enumerate(dataset.take(steps_per_epoch)):\n",
        "    batch_loss = train_step(inp, targ, enc_hidden)\n",
        "    total_loss += batch_loss\n",
        "\n",
        "    if batch % 100 == 0:\n",
        "      print(f'Epoch {epoch+1} Batch {batch} Loss {batch_loss.numpy():.4f}')\n",
        "      \n",
        "\n",
        "  if (epoch+1) % 2 == 0:\n",
        "    checkpoint.save(file_prefix = checkpoint_prefix)\n",
        "\n",
        "  print(f'Epoch {epoch+1} Loss: {(total_loss / steps_per_epoch):.4f}')\n",
        "  print(f'Time taken for 1 epoch {time.time()-start}')"
      ],
      "execution_count": null,
      "outputs": [
        {
          "output_type": "stream",
          "text": [
            "Epoch 1 Batch 0 Loss 1.5983\n",
            "Epoch 1 Batch 100 Loss 0.8615\n",
            "Epoch 1 Batch 200 Loss 0.8558\n",
            "Epoch 1 Batch 300 Loss 0.7874\n",
            "Epoch 1 Batch 400 Loss 0.6986\n",
            "Epoch 1 Batch 500 Loss 0.7463\n",
            "Epoch 1 Batch 600 Loss 0.6212\n",
            "Epoch 1 Batch 700 Loss 0.6904\n",
            "Epoch 1 Batch 800 Loss 0.5990\n",
            "Epoch 1 Batch 900 Loss 0.6343\n",
            "Epoch 1 Batch 1000 Loss 0.5879\n",
            "Epoch 1 Batch 1100 Loss 0.6536\n",
            "Epoch 1 Batch 1200 Loss 0.5262\n",
            "Epoch 1 Batch 1300 Loss 0.5765\n",
            "Epoch 1 Batch 1400 Loss 0.5489\n",
            "Epoch 1 Loss: 0.6579\n",
            "Time taken for 1 epoch 1026.6012399196625\n",
            "Epoch 2 Batch 0 Loss 0.4808\n",
            "Epoch 2 Batch 100 Loss 0.5219\n",
            "Epoch 2 Batch 200 Loss 0.4800\n",
            "Epoch 2 Batch 300 Loss 0.5693\n",
            "Epoch 2 Batch 400 Loss 0.4404\n",
            "Epoch 2 Batch 500 Loss 0.4692\n",
            "Epoch 2 Batch 600 Loss 0.4955\n",
            "Epoch 2 Batch 700 Loss 0.4747\n",
            "Epoch 2 Batch 800 Loss 0.4290\n",
            "Epoch 2 Batch 900 Loss 0.4141\n",
            "Epoch 2 Batch 1000 Loss 0.4046\n",
            "Epoch 2 Batch 1100 Loss 0.3505\n",
            "Epoch 2 Batch 1200 Loss 0.3459\n",
            "Epoch 2 Batch 1300 Loss 0.3358\n",
            "Epoch 2 Batch 1400 Loss 0.3247\n",
            "Epoch 2 Loss: 0.4107\n",
            "Time taken for 1 epoch 993.8638215065002\n",
            "Epoch 3 Batch 0 Loss 0.3550\n",
            "Epoch 3 Batch 100 Loss 0.2642\n",
            "Epoch 3 Batch 200 Loss 0.3510\n",
            "Epoch 3 Batch 300 Loss 0.2524\n",
            "Epoch 3 Batch 400 Loss 0.3296\n",
            "Epoch 3 Batch 500 Loss 0.2520\n",
            "Epoch 3 Batch 600 Loss 0.2818\n",
            "Epoch 3 Batch 700 Loss 0.2727\n",
            "Epoch 3 Batch 800 Loss 0.2591\n",
            "Epoch 3 Batch 900 Loss 0.2126\n",
            "Epoch 3 Batch 1000 Loss 0.2742\n",
            "Epoch 3 Batch 1100 Loss 0.2872\n",
            "Epoch 3 Batch 1200 Loss 0.2201\n",
            "Epoch 3 Batch 1300 Loss 0.2238\n",
            "Epoch 3 Batch 1400 Loss 0.2880\n",
            "Epoch 3 Loss: 0.2639\n",
            "Time taken for 1 epoch 993.028802394867\n",
            "Epoch 4 Batch 0 Loss 0.2093\n",
            "Epoch 4 Batch 100 Loss 0.2386\n",
            "Epoch 4 Batch 200 Loss 0.1633\n",
            "Epoch 4 Batch 300 Loss 0.1584\n",
            "Epoch 4 Batch 400 Loss 0.2075\n",
            "Epoch 4 Batch 500 Loss 0.2161\n",
            "Epoch 4 Batch 600 Loss 0.1629\n",
            "Epoch 4 Batch 700 Loss 0.2272\n",
            "Epoch 4 Batch 800 Loss 0.1917\n",
            "Epoch 4 Batch 900 Loss 0.2009\n",
            "Epoch 4 Batch 1000 Loss 0.1971\n",
            "Epoch 4 Batch 1100 Loss 0.1947\n",
            "Epoch 4 Batch 1200 Loss 0.1885\n",
            "Epoch 4 Batch 1300 Loss 0.1595\n",
            "Epoch 4 Batch 1400 Loss 0.1835\n",
            "Epoch 4 Loss: 0.1891\n",
            "Time taken for 1 epoch 994.1875133514404\n",
            "Epoch 5 Batch 0 Loss 0.1539\n",
            "Epoch 5 Batch 100 Loss 0.1215\n",
            "Epoch 5 Batch 200 Loss 0.1260\n",
            "Epoch 5 Batch 300 Loss 0.1547\n",
            "Epoch 5 Batch 400 Loss 0.1669\n",
            "Epoch 5 Batch 500 Loss 0.1364\n",
            "Epoch 5 Batch 600 Loss 0.1613\n",
            "Epoch 5 Batch 700 Loss 0.1720\n",
            "Epoch 5 Batch 800 Loss 0.1346\n",
            "Epoch 5 Batch 900 Loss 0.1735\n",
            "Epoch 5 Batch 1000 Loss 0.1576\n",
            "Epoch 5 Batch 1100 Loss 0.1691\n",
            "Epoch 5 Batch 1200 Loss 0.1305\n",
            "Epoch 5 Batch 1300 Loss 0.1451\n",
            "Epoch 5 Batch 1400 Loss 0.1993\n",
            "Epoch 5 Loss: 0.1430\n",
            "Time taken for 1 epoch 991.9078509807587\n"
          ],
          "name": "stdout"
        }
      ]
    },
    {
      "cell_type": "code",
      "metadata": {
        "id": "ueAEsVn-igRr",
        "colab_type": "code",
        "colab": {}
      },
      "source": [
        "# Evaluate\n",
        "def evaluate(sentence):\n",
        "  attention_plot = np.zeros((max_length_tar, max_length_inp))\n",
        "  sentence = preprocess_sentence(sentence)\n",
        "  inputs = [inp_lang.word_index[i] for i in sentence.split(' ')]\n",
        "  inputs = tf.keras.preprocessing.sequence.pad_sequences([inputs],\n",
        "                                                         maxlen = max_length_inp,\n",
        "                                                         padding = 'post')\n",
        "  inputs = tf.convert_to_tensor(inputs)\n",
        "  result = ''\n",
        "\n",
        "  hidden = [tf.zeros((1, units))]\n",
        "  enc_out, enc_hidden = encoder(inputs, hidden)\n",
        "\n",
        "  dec_hidden = enc_hidden\n",
        "  dec_input = tf.expand_dims([tar_lang.word_index['<start>']], 0)\n",
        "\n",
        "  for t in range(max_length_tar):\n",
        "    predictions, dec_hidden, attention_weights = decoder(dec_input,\n",
        "                                                         dec_hidden,\n",
        "                                                         enc_out)\n",
        "    \n",
        "    attention_weights = tf.reshape(attention_weights, (-1, ))\n",
        "    attention_plot[t] = attention_weights.numpy()\n",
        "\n",
        "    predicted_id = tf.argmax(predictions[0]).numpy()\n",
        "\n",
        "    result += tar_lang.index_word[predicted_id] + ' '\n",
        "\n",
        "    if (tar_lang.index_word[predicted_id] == '<end>'):\n",
        "      return result, sentence, attention_plot\n",
        "    \n",
        "    dec_input = tf.expand_dims([predicted_id], 0)\n",
        "  \n",
        "  return result, sentence, attention_plot"
      ],
      "execution_count": null,
      "outputs": []
    },
    {
      "cell_type": "code",
      "metadata": {
        "id": "PCthW3MSmB01",
        "colab_type": "code",
        "colab": {}
      },
      "source": [
        "# Translate and plot attention\n",
        "def plot_attention(attention, input_sentence, predicted_sentence):\n",
        "  fig = plt.figure(figsize = (10, 10))\n",
        "  ax = fig.add_subplot(1, 1, 1)\n",
        "  ax.matshow(attention, cmap = 'viridis')\n",
        "\n",
        "  fontdict = {'fontsize': 14}\n",
        "\n",
        "  ax.set_xticklabels([''] + input_sentence, fontdict = fontdict, rotation = 90)\n",
        "  ax.set_yticklabels([''] + predicted_sentence, fontdict = fontdict)\n",
        "\n",
        "  plt.show()\n",
        "  \n",
        "def translate(sentence):\n",
        "  result, sentence, attention_plot = evaluate(sentence)\n",
        "\n",
        "  print(f'Input: \"{sentence}\"')\n",
        "  print(f'Output: \"{result}\"')\n",
        "\n",
        "  attention_plot = attention_plot[:len(result.split(' ')), :len(sentence.split(' '))]\n",
        "  plot_attention(attention_plot, sentence.split(' '), result.split(' '))\n",
        "\n"
      ],
      "execution_count": null,
      "outputs": []
    },
    {
      "cell_type": "code",
      "metadata": {
        "id": "9Rj0FDbmp88U",
        "colab_type": "code",
        "colab": {
          "base_uri": "https://localhost:8080/",
          "height": 1000
        },
        "outputId": "21f71cc6-5585-49cd-cb9b-7fe598c31954"
      },
      "source": [
        "# Restore ckp and try it.\n",
        "checkpoint.restore(tf.train.latest_checkpoint(checkpoint_dir))\n",
        "\n",
        "translate(u'hace mucho frio aqui.')\n",
        "translate(u'esta es mi vida?')\n",
        "translate(u'esta es mi vida')\n",
        "translate(u'estas en casa?')\n",
        "translate(u'me gusta mucho la cerveza.')"
      ],
      "execution_count": null,
      "outputs": [
        {
          "output_type": "stream",
          "text": [
            "Input: \"<start> hace mucho frio aqui . <end>\"\n",
            "Output: \"it s been cold here . <end> \"\n"
          ],
          "name": "stdout"
        },
        {
          "output_type": "display_data",
          "data": {
            "image/png": "[encoded data removed]",
            "text/plain": [
              "<Figure size 720x720 with 1 Axes>"
            ]
          },
          "metadata": {
            "tags": [],
            "needs_background": "light"
          }
        },
        {
          "output_type": "stream",
          "text": [
            "Input: \"<start> esta es mi vida ? <end>\"\n",
            "Output: \"this is my life ? <end> \"\n"
          ],
          "name": "stdout"
        },
        {
          "output_type": "display_data",
          "data": {
            "image/png": "[encoded data removed]",
            "text/plain": [
              "<Figure size 720x720 with 1 Axes>"
            ]
          },
          "metadata": {
            "tags": [],
            "needs_background": "light"
          }
        },
        {
          "output_type": "stream",
          "text": [
            "Input: \"<start> esta es mi vida <end>\"\n",
            "Output: \"this is my life . <end> \"\n"
          ],
          "name": "stdout"
        },
        {
          "output_type": "display_data",
          "data": {
            "image/png": "[encoded data removed]",
            "text/plain": [
              "<Figure size 720x720 with 1 Axes>"
            ]
          },
          "metadata": {
            "tags": [],
            "needs_background": "light"
          }
        },
        {
          "output_type": "stream",
          "text": [
            "Input: \"<start> estas en casa ? <end>\"\n",
            "Output: \"you re at home ? <end> \"\n"
          ],
          "name": "stdout"
        },
        {
          "output_type": "display_data",
          "data": {
            "image/png": "[encoded data removed]",
            "text/plain": [
              "<Figure size 720x720 with 1 Axes>"
            ]
          },
          "metadata": {
            "tags": [],
            "needs_background": "light"
          }
        },
        {
          "output_type": "stream",
          "text": [
            "Input: \"<start> me gusta mucho la cerveza . <end>\"\n",
            "Output: \"i like the beer . <end> \"\n"
          ],
          "name": "stdout"
        },
        {
          "output_type": "display_data",
          "data": {
            "image/png": "[encoded data removed]",
            "text/plain": [
              "<Figure size 720x720 with 1 Axes>"
            ]
          },
          "metadata": {
            "tags": [],
            "needs_background": "light"
          }
        }
      ]
    }
  ]
}